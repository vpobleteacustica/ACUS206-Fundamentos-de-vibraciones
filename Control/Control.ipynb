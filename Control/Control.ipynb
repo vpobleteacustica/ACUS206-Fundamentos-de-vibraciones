{
 "cells": [
  {
   "cell_type": "code",
   "execution_count": 1,
   "metadata": {},
   "outputs": [
    {
     "data": {
      "text/html": [
       "<!-- Mejorar visualización en proyector -->\n",
       "<style>\n",
       ".rendered_html {font-size: 1.2em; line-height: 150%;}\n",
       "div.prompt {min-width: 0ex; }\n",
       ".container {width:95% !important;}\n",
       "</style>\n"
      ],
      "text/plain": [
       "<IPython.core.display.HTML object>"
      ]
     },
     "metadata": {},
     "output_type": "display_data"
    }
   ],
   "source": [
    "%%HTML\n",
    "<!-- Mejorar visualización en proyector -->\n",
    "<style>\n",
    ".rendered_html {font-size: 1.2em; line-height: 150%;}\n",
    "div.prompt {min-width: 0ex; }\n",
    ".container {width:95% !important;}\n",
    "</style>"
   ]
  },
  {
   "cell_type": "markdown",
   "metadata": {},
   "source": [
    "<h1 style=\"text-align:center\">Control</h1>\n",
    "<h3 style=\"text-align:center\">ACUS206: Aislamiento y Análisis de Vibraciones</h3>\n",
    "<p style=\"text-align:center\">Dr. Víctor Poblete <br>\n",
    "<a href=\"mailto:vpoblete@uach.cl\">vpoblete@uach.cl</a><br>\n",
    "<a href=\"https://github.com/vpobleteacustica/ACUS206-Fundamentos-de-vibraciones\">https://github.com/vpobleteacustica/ACUS206-Fundamentos-de-vibraciones</a><br> \n",
    "<a href=\"http://www.acusticauach.cl\">www.acusticauach.cl</a><br>   "
   ]
  },
  {
   "cell_type": "markdown",
   "metadata": {},
   "source": [
    "### Resolver los siguientes problemas:\n",
    "\n",
    "> + El primer ejercicio es un problema a primera vista. Aunque fue el primer ejercicio que se resolvió en el curso.\n",
    "\n",
    "> + Los dos siguientes, fueron preparados durante este período previo al control."
   ]
  },
  {
   "cell_type": "markdown",
   "metadata": {},
   "source": [
    "> + Un péndulo simple consiste de una masa $m$ suspendida sobre una cuerda de longitud $L.$ Obtener la ecuación diferencial de movimiento para el desplazamiento angular $\\theta(t)$ del péndulo así como también una expresión para la tensión $T$ en la cuerda.\n",
    "\n",
    "<p style=\"text-align:center\">\n",
    "\t<img src=\"pendulo.png\" alt=\"Masa\" width=30%/></a><br>\n",
    "    <strong> Figura 1: Péndulo simple.</strong>\n",
    "</p>\n",
    "\n",
    "> + Suponer que el péndulo compuesto consistente de una barra uniforme de masa total $m$ cuelga en un punto $O$ a una distancia $\\frac{L}{6}$ del centro de masa $C.$ Si el péndulo se suelta desde el reposo en posición horizontal, determinar la aceleración angular $\\alpha$ del péndulo inmediatamente después de soltarse.\n",
    "\n",
    "<p style=\"text-align:center\">\n",
    "\t<img src=\"compuesto.png\" alt=\"Masa\" width=25%/></a><br>\n",
    "    <strong> Figura 2: Péndulo compuesto.</strong>\n",
    "</p>\n",
    "\n",
    "> + Una barra rígida de masa $m$ y longitud $L_{2}$ está suspendida en el punto O, por una cuerda de largo $L_{1}.$ Actúa una fuerza horizontal $F.$ Usar los desplazamientos angulares $\\theta_{1}$ y $\\theta_{2}$ para definir la posición, velocidad y aceleración del centro de masa $C$, en términos de los ejes del cuerpo y derivar las ecuaciones de movimiento para la traslación de $C$ y la rotación en torno a $C.$ \n",
    "\n",
    "<p style=\"text-align:center\">\n",
    "\t<img src=\"mono2_vib.png\" alt=\"Masa\" width=30%/></a><br>\n",
    "    <strong> Figura 3: Péndulo compuesto.</strong>\n",
    "</p>"
   ]
  },
  {
   "cell_type": "code",
   "execution_count": null,
   "metadata": {},
   "outputs": [],
   "source": []
  }
 ],
 "metadata": {
  "kernelspec": {
   "display_name": "acus206-env",
   "language": "python",
   "name": "acus206-env"
  },
  "language_info": {
   "codemirror_mode": {
    "name": "ipython",
    "version": 3
   },
   "file_extension": ".py",
   "mimetype": "text/x-python",
   "name": "python",
   "nbconvert_exporter": "python",
   "pygments_lexer": "ipython3",
   "version": "3.8.5"
  }
 },
 "nbformat": 4,
 "nbformat_minor": 2
}
