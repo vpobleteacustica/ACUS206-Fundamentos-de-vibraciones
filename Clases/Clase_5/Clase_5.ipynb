{
 "cells": [
  {
   "cell_type": "code",
   "execution_count": 1,
   "metadata": {},
   "outputs": [
    {
     "data": {
      "text/html": [
       "<!-- Mejorar visualización en proyector -->\n",
       "<style>\n",
       ".rendered_html {font-size: 1.2em; line-height: 150%;}\n",
       "div.prompt {min-width: 0ex; }\n",
       ".container {width:95% !important;}\n",
       "</style>\n"
      ],
      "text/plain": [
       "<IPython.core.display.HTML object>"
      ]
     },
     "metadata": {},
     "output_type": "display_data"
    }
   ],
   "source": [
    "%%HTML\n",
    "<!-- Mejorar visualización en proyector -->\n",
    "<style>\n",
    ".rendered_html {font-size: 1.2em; line-height: 150%;}\n",
    "div.prompt {min-width: 0ex; }\n",
    ".container {width:95% !important;}\n",
    "</style>"
   ]
  },
  {
   "cell_type": "markdown",
   "metadata": {},
   "source": [
    "<h1 style=\"text-align:center\">Clase 5: Ejemplo de movimiento planar, combinado, de traslación y rotación de cuerpo rígido, referido al centro de masa</h1>\n",
    "<h3 style=\"text-align:center\">ACUS262: Aislamiento y Análisis de Vibraciones</h3>\n",
    "<p style=\"text-align:center\">Dr. Víctor Poblete <br>\n",
    "<a href=\"mailto:vpoblete@uach.cl\">vpoblete@uach.cl</a><br>\n",
    "<p style=\"text-align:center\">Juan E. Galindo Saldivia - Ayudante <br>\n",
    "<a href=\"mailto:juan.e.galindo.s@gmail.com\">juan.e.galindo.s@gmail.com </a><br>\n",
    "<a href=\"http://www.acusticauach.cl\">www.acusticauach.cl</a><br> "
   ]
  },
  {
   "cell_type": "markdown",
   "metadata": {},
   "source": [
    "### Ejercicio 3: "
   ]
  },
  {
   "cell_type": "markdown",
   "metadata": {},
   "source": [
    "Una barra rígida, uniforme, de masa total m y longitud L2, está suspendida en el punto 0 por una cuerda de longitud L1. Sobre la barra actúa una fuerza horizontal F como se muestra en la Fig. 1."
   ]
  },
  {
   "cell_type": "markdown",
   "metadata": {},
   "source": [
    "<p style=\"text-align:center\">\n",
    "\t<img src=\"Barra_2.png\" alt=\"Barra rígida\" width=30%/></a><br>\n",
    "    <strong> Figura 1: Barra rígida sobre una cuerda y posición del centro de masa $\\text{C}$. </strong>\n",
    "</p>"
   ]
  },
  {
   "cell_type": "markdown",
   "metadata": {},
   "source": [
    "Usar los desplazamientos angulares $\\theta_{\\text{1}}$ y $\\theta_{\\text{2}}$ para definir la posición, velocidad y aceleración del centro de masa $\\text{C}$, en términos de los ejes del cuerpo $\\hat{{\\bf{r}}}_{2}$ y $\\hat{{\\bf{\\theta}}}_{2}$ y obtener las ecuaciones de movimiento para la traslación de $\\text{C}$ y la rotación alrededor de $\\text{C}$."
   ]
  },
  {
   "cell_type": "markdown",
   "metadata": {},
   "source": [
    "#### Solución:"
   ]
  },
  {
   "cell_type": "markdown",
   "metadata": {},
   "source": [
    "Para el centro de masa $\\text{C},$ se escribe el vector de posición, el vector de velocidad y el vector de aceleración :"
   ]
  },
  {
   "cell_type": "markdown",
   "metadata": {},
   "source": [
    "* Vector de posición ${\\bf{\\text{r}}}_{\\text{C}}$:\n",
    "  +  ${\\bf{\\text{r}}}_{\\text{C}}= {\\bf{\\text{r}}}_{\\text{A}} + {\\bf{\\text{r}}}_{\\text{AC}} = {\\text{L}}_{\\text{1}}\\,\\hat{{\\bf{r}}}_{\\text{1}}+\\frac{{\\text{L}}_{\\text{2}}}{\\text{2}}\\,\\hat{{\\bf{r}}}_{\\text{2}}$"
   ]
  },
  {
   "cell_type": "markdown",
   "metadata": {},
   "source": [
    "* Vector de velocidad ${\\bf{\\text{v}}}_{\\text{C}}$:\n",
    "  +  ${\\bf{\\text{v}}}_{\\text{C}}= {\\bf{\\text{v}}}_{\\text{A}} + {\\bf{\\text{v}}}_{\\text{AC}} = {\\text{L}}_{\\text{1}}\\,{{\\bf{\\dot{\\theta}}}_{\\text{1}}}\\,\\hat{{\\bf{\\theta}}}_{\\text{1}}+\\frac{{\\text{L}}_{\\text{2}}}{\\text{2}}\\,{{\\bf{\\dot{\\theta}}}_{\\text{2}}}\\,\\hat{{\\bf{\\theta}}}_{\\text{2}}$"
   ]
  },
  {
   "cell_type": "markdown",
   "metadata": {},
   "source": [
    "* Vector de aceleración ${\\bf{\\text{a}}}_{\\text{C}}$: \n",
    "  +  ${\\bf{\\text{a}}}_{\\text{C}}= {\\bf{\\text{a}}}_{\\text{A}} + {\\bf{\\text{a}}}_{\\text{AC}}$"
   ]
  },
  {
   "cell_type": "markdown",
   "metadata": {},
   "source": [
    "Recordar que en un movimiento circular, la aceleración tiene dos componentes: una componente radial y otra componente transversal: "
   ]
  },
  {
   "cell_type": "markdown",
   "metadata": {},
   "source": [
    "\\begin{align*}\n",
    "{{\\bf{\\text{a}}}}_{{\\text{r}}}&=\\,-\\,{\\text{r}}\\,{{\\bf{\\dot{\\theta}}}}\\,^{2}\\,\\hat{{\\bf{r}}}\\\\\n",
    "{{\\bf{\\text{a}}}}_{\\theta}&=\\,{\\text{L}}\\,\\ddot{\\theta}\\,\\hat{{\\bf{\\theta}}}\n",
    "\\end{align*}"
   ]
  },
  {
   "cell_type": "markdown",
   "metadata": {},
   "source": [
    "* Entonces, ${\\bf{\\text{a}}}_{\\text{C}}$ será:\n",
    "  +  ${\\bf{\\text{a}}}_{\\text{C}}= -{\\text{L}}_{\\text{1}}\\,{{\\bf{\\dot{\\theta}}}_{\\text{1}}}^{2}\\,\\hat{{\\bf{r}}}_{\\text{1}}+{\\text{L}}_{\\text{1}}\\,{{\\bf{\\ddot{\\theta}}}_{\\text{1}}}\\,\\hat{{\\bf{\\theta}}}_{\\text{1}}-\\frac{{\\text{L}}_{\\text{2}}}{\\text{2}}\\,{{\\bf{\\dot{\\theta}}}_{\\text{2}}}^{2}\\,\\hat{{\\bf{r}}}_{\\text{2}}+\\frac{{\\text{L}}_{\\text{2}}}{\\text{2}}\\,{{\\bf{\\ddot{\\theta}}}_{\\text{2}}}\\,\\hat{{\\bf{\\theta}}}_{\\text{2}}$"
   ]
  },
  {
   "cell_type": "markdown",
   "metadata": {},
   "source": [
    "Se observa de los vectores de posición, velocidad y aceleración del centro de masa $\\text{C}$, que estos vectores están expresados en términos de dos conjuntos de vectores unitarios: (1) el conjunto $\\hat{{\\bf{r}}}_{\\text{1}}$ y $\\hat{{\\bf{\\theta}}}_{\\text{1}}$; y (2) el conjunto de vectores unitarios $\\hat{{\\bf{r}}}_{\\text{2}}$ y $\\hat{{\\bf{\\theta}}}_{\\text{2}}$, respectivamente. Pero, como muestra la Fig. 2, estos dos conjuntos están geométricamente relacionados."
   ]
  },
  {
   "cell_type": "markdown",
   "metadata": {},
   "source": [
    "<p style=\"text-align:center\">\n",
    "\t<img src=\"unitarios2.png\" alt=\"Vectores unitarios\" width=15%/></a><br>\n",
    "    <strong> Figura 2: Relaciones entre los dos conjuntos de vectores unitarios. </strong>\n",
    "</p>"
   ]
  },
  {
   "cell_type": "markdown",
   "metadata": {},
   "source": [
    "\\begin{align*}\n",
    "\\hat{{\\bf{r}}}_{\\text{1}}&={\\text{cos}}\\,(\\theta_{\\text{2}}-\\theta_{\\text{1}})\\,\\hat{{\\bf{r}}}_{\\text{2}}-{\\text{sen}}\\,(\\theta_{\\text{2}}-\\theta_{\\text{1}})\\,\\hat{{\\bf{\\theta}}}_{\\text{2}}\n",
    "\\end{align*}"
   ]
  },
  {
   "cell_type": "markdown",
   "metadata": {},
   "source": [
    "\\begin{align*}\n",
    "\\hat{{\\bf{\\theta}}}_{\\text{1}}&={\\text{sen}}\\,(\\theta_{\\text{2}}-\\theta_{\\text{1}})\\,\\hat{{\\bf{r}}}_{\\text{2}}+{\\text{cos}}\\,(\\theta_{\\text{2}}-\\theta_{\\text{1}})\\,\\hat{{\\bf{\\theta}}}_{\\text{2}}\n",
    "\\end{align*}"
   ]
  },
  {
   "cell_type": "markdown",
   "metadata": {},
   "source": [
    "Se pueden expresar, por lo tanto, los vectores de posición, velocidad y aceleración del centro de masa $\\text{C}$, en términos de los ejes del cuerpo:  "
   ]
  },
  {
   "cell_type": "markdown",
   "metadata": {},
   "source": [
    "* Vector de posición ${\\bf{\\text{r}}}_{\\text{C}}$:\n",
    "  \\begin{align*}\n",
    "     {\\bf{\\text{r}}}_{\\text{C}}&= {\\text{L}}_{\\text{1}}\\,{\\text{cos}}\\,(\\theta_{\\text{2}}-\\theta_{\\text{1}})\\,\\hat{{\\bf{r}}}_{\\text{2}}-{\\text{L}}_{\\text{1}}\\,{\\text{sen}}   \\,(\\theta_{\\text{2}}-\\theta_{\\text{1}})\\,\\hat{{\\bf{\\theta}}}_{\\text{2}}+\\frac{{\\text{L}}_{\\text{2}}}{\\text{2}}\\,\\hat{{\\bf{r}}}_{\\text{2}}\\\\\n",
    "     &=\\bigg({\\text{L}}_{\\text{1}}\\,{\\text{cos}}\\,(\\theta_{\\text{2}}-\\theta_{\\text{1}})+\\frac{{\\text{L}}_{\\text{2}}}{\\text{2}}\\,\\bigg)\\,\\hat{{\\bf{r}}}_{\\text{2}}-{\\text{L}}_{\\text{1}}\\,{\\text{sen}}   \\,(\\theta_{\\text{2}}-\\theta_{\\text{1}})\\,\\hat{{\\bf{\\theta}}}_{\\text{2}}\n",
    "     \\end{align*}"
   ]
  },
  {
   "cell_type": "markdown",
   "metadata": {},
   "source": [
    "* Vector de velocidad ${\\bf{\\text{v}}}_{\\text{C}}$:"
   ]
  },
  {
   "cell_type": "markdown",
   "metadata": {},
   "source": [
    " \\begin{align*}\n",
    "     {\\bf{\\text{v}}}_{\\text{C}}&= {\\text{L}}_{\\text{1}}\\,{{\\bf{\\dot{\\theta}}}_{\\text{1}}}\\,{\\text{sen}}\\,(\\theta_{\\text{2}}-\\theta_{\\text{1}})\\,\\hat{{\\bf{r}}}_{\\text{2}}+{\\text{L}}_{\\text{1}}\\,{{\\bf{\\dot{\\theta}}}_{\\text{1}}}\\,{\\text{cos}}\\,(\\theta_{\\text{2}}-\\theta_{\\text{1}})\\,\\hat{{\\bf{\\theta}}}_{\\text{2}}+\\frac{{\\text{L}}_{\\text{2}}}{\\text{2}}\\,{{\\bf{\\dot{\\theta}}}_{\\text{2}}}\\,\\hat{{\\bf{\\theta}}}_{\\text{2}}\\\\\n",
    "     &={\\text{L}}_{\\text{1}}\\,{{\\bf{\\dot{\\theta}}}_{\\text{1}}}\\,{\\text{sen}}\\,(\\theta_{\\text{2}}-\\theta_{\\text{1}})\\,\\hat{{\\bf{r}}}_{\\text{2}}+\\bigg( {\\text{L}}_{\\text{1}}\\,{{\\bf{\\dot{\\theta}}}_{\\text{1}}}\\,{\\text{cos}}\\,(\\theta_{\\text{2}}-\\theta_{\\text{1}})+\\frac{{\\text{L}}_{\\text{2}}}{\\text{2}}\\,{{\\bf{\\dot{\\theta}}}_{\\text{2}}}\\bigg)\\,\\hat{{\\bf{\\theta}}}_{\\text{2}}\n",
    "     \\end{align*}"
   ]
  },
  {
   "cell_type": "markdown",
   "metadata": {},
   "source": [
    "* Vector de aceleración ${\\bf{\\text{a}}}_{\\text{C}}$: "
   ]
  },
  {
   "cell_type": "markdown",
   "metadata": {},
   "source": [
    "\\begin{align*}\n",
    "{\\bf{\\text{a}}}_{\\text{C}}&= -{\\text{L}}_{\\text{1}}\\,{{\\bf{\\dot{\\theta}}}_{\\text{1}}}^{2}\\,{\\text{cos}}\\,(\\theta_{\\text{2}}-\\theta_{\\text{1}})\\,\\hat{{\\bf{r}}}_{\\text{2}}+{\\text{L}}_{\\text{1}}\\,{{\\bf{\\dot{\\theta}}}_{\\text{1}}}^{2}\\,{\\text{sen}}\\,(\\theta_{\\text{2}}-\\theta_{\\text{1}})\\,\\hat{{\\bf{\\theta}}}_{\\text{2}}+{\\text{L}}_{\\text{1}}\\,{{\\bf{\\ddot{\\theta}}}_{\\text{1}}}\\,{\\text{sen}}\\,(\\theta_{\\text{2}}-\\theta_{\\text{1}})\\,\\hat{{\\bf{r}}}_{\\text{2}}+{\\text{L}}_{\\text{1}}\\,{{\\bf{\\ddot{\\theta}}}_{\\text{1}}}\\,{\\text{cos}}\\,(\\theta_{\\text{2}}-\\theta_{\\text{1}})\\,\\hat{{\\bf{\\theta}}}_{\\text{2}}-\\frac{{\\text{L}}_{\\text{2}}}{\\text{2}}\\,{{\\bf{\\dot{\\theta}}}_{\\text{2}}}^{2}\\,\\hat{{\\bf{r}}}_{\\text{2}}+\\frac{{\\text{L}}_{\\text{2}}}{\\text{2}}\\,{{\\bf{\\ddot{\\theta}}}_{\\text{2}}}\\,\\hat{{\\bf{\\theta}}}_{\\text{2}}\\\\\n",
    "&=\\bigg( {\\text{L}}_{\\text{1}}\\,{{\\bf{\\ddot{\\theta}}}_{\\text{1}}}\\,{\\text{sen}}\\,(\\theta_{\\text{2}}-\\theta_{\\text{1}})-{\\text{L}}_{\\text{1}}\\,{{\\bf{\\dot{\\theta}}}_{\\text{1}}}^{2}\\,{\\text{cos}}\\,(\\theta_{\\text{2}}-\\theta_{\\text{1}})-\\frac{{\\text{L}}_{\\text{2}}}{\\text{2}}\\,{{\\bf{\\dot{\\theta}}}_{\\text{2}}}^{2} \\bigg)\\,\\hat{{\\bf{r}}}_{\\text{2}}+\\bigg( {\\text{L}}_{\\text{1}}\\,{{\\bf{\\ddot{\\theta}}}_{\\text{1}}}\\,{\\text{cos}}\\,(\\theta_{\\text{2}}-\\theta_{\\text{1}})+{\\text{L}}_{\\text{1}}\\,{{\\bf{\\dot{\\theta}}}_{\\text{1}}}^{2}\\,{\\text{sen}}\\,(\\theta_{\\text{2}}-\\theta_{\\text{1}})+\\frac{{\\text{L}}_{\\text{2}}}{\\text{2}}\\,{{\\bf{\\ddot{\\theta}}}_{\\text{2}}} \\bigg)\\,\\hat{{\\bf{\\theta}}}_{\\text{2}}\\\n",
    "\\end{align*}"
   ]
  },
  {
   "cell_type": "markdown",
   "metadata": {},
   "source": [
    "Para derivar las ecuaciones de movimiento de traslación de $\\text{C}$ y de rotación alrededor de $\\text{C}$ se observa un diagrama de cuerpo libre (DCL), como el de la Fig. 3."
   ]
  },
  {
   "cell_type": "markdown",
   "metadata": {},
   "source": [
    "<p style=\"text-align:center\">\n",
    "\t<img src=\"DCL.png\" alt=\"Diagrama de cuerpo libre\" width=35%/></a><br>\n",
    "    <strong> Figura 3: Diagrama de cuerpo libre. </strong>\n",
    "</p>"
   ]
  },
  {
   "cell_type": "markdown",
   "metadata": {},
   "source": [
    "Usando la segunda ley de Newton y por analogía con el movimiento planar, en términos de las direcciones $\\hat{{\\bf{r}}}_{\\text{2}}$ y $\\hat{{\\bf{\\theta}}}_{\\text{2}}$, se puede escribir: "
   ]
  },
  {
   "cell_type": "markdown",
   "metadata": {},
   "source": [
    "   + ${\\text{F}}_{\\hat{{\\bf{r}}}_{\\text{2}}}={\\text{m}}\\,{\\bf{\\text{a}}}_{\\hat{{\\bf{r}}}_{\\text{2}}}$\n",
    "   + ${\\text{F}}_{\\hat{{\\bf{\\theta}}}_{\\text{2}}}={\\text{m}}\\,{\\bf{\\text{a}}}_{\\hat{{\\bf{\\theta}}}_{\\text{2}}}$\n"
   ]
  },
  {
   "cell_type": "markdown",
   "metadata": {},
   "source": [
    "Usando además, la segunda ley de Newton para rotación, que establece que la aceleración angular es proporcional al momento de la fuerza alrededor de ${\\text{C}}$, ${\\text{M}}_{\\text{C}}$ e inversamente proporcional al momento de inercia, ${\\text{I}}_{\\text{C}}$, se puede escribir en términos escalares: "
   ]
  },
  {
   "cell_type": "markdown",
   "metadata": {},
   "source": [
    "+ ${\\text{M}}_{\\text{C}}={\\text{I}}_{\\text{C}}\\,\\alpha = {\\text{I}}_{\\text{C}}\\,{{\\bf{\\ddot{\\theta}}}_{\\text{2}}}$"
   ]
  },
  {
   "cell_type": "markdown",
   "metadata": {},
   "source": [
    "con ${{\\bf{\\ddot{\\theta}}}_{\\text{2}}}$ la aceleración angular."
   ]
  },
  {
   "cell_type": "markdown",
   "metadata": {},
   "source": [
    "Por lo tanto, del DCL (ver Fig. 3):"
   ]
  },
  {
   "cell_type": "markdown",
   "metadata": {},
   "source": [
    "+ ${\\text{F}}_{\\hat{{\\bf{r}}}_{\\text{2}}}={\\text{F}}\\,{\\text{sen}}\\,\\theta_{\\text{2}}+{\\text{mg}}\\,{\\text{cos}}\\,\\theta_{\\text{2}}-{\\text{T}}\\,{\\text{cos}}\\,(\\theta_{\\text{2}}-\\theta_{\\text{2}})$"
   ]
  },
  {
   "cell_type": "markdown",
   "metadata": {},
   "source": [
    "+ ${\\text{F}}_{\\hat{{\\bf{\\theta}}}_{\\text{2}}}={\\text{F}}\\,{\\text{cos}}\\,\\theta_{\\text{2}}-{\\text{mg}}\\,{\\text{cos}}\\,\\theta_{\\text{2}}+{\\text{T}}\\,{\\text{sen}}\\,(\\theta_{\\text{2}}-\\theta_{\\text{2}})$"
   ]
  },
  {
   "cell_type": "markdown",
   "metadata": {},
   "source": [
    "Ahora, para obtener la ecuación de momento de la fuerza en torno a ${\\text{C}}$, se observa la Fig. 4:"
   ]
  },
  {
   "cell_type": "markdown",
   "metadata": {},
   "source": [
    "<p style=\"text-align:center\">\n",
    "\t<img src=\"momento.png\" alt=\"Momento\" width=25%/></a><br>\n",
    "    <strong> Figura 4: Cálculo de ${\\text{M}}_{\\text{C}}$. </strong>\n",
    "</p>"
   ]
  },
  {
   "cell_type": "markdown",
   "metadata": {},
   "source": [
    "+ ${\\text{M}}_{{C}_{1}}={\\text{F}}\\,{\\text{cos}}\\,\\theta_{\\text{2}}\\cdot\\frac{{\\text{L}}_{\\text{2}}}{2}$"
   ]
  },
  {
   "cell_type": "markdown",
   "metadata": {},
   "source": [
    "+ ${\\text{M}}_{{C}_{2}}=-{\\text{T}}\\,{\\text{sen}}\\,(\\theta_{\\text{2}}-\\theta_{\\text{1}})\\cdot\\frac{{\\text{L}}_{\\text{2}}}{2}$"
   ]
  },
  {
   "cell_type": "markdown",
   "metadata": {},
   "source": [
    "Por lo tanto,"
   ]
  },
  {
   "cell_type": "markdown",
   "metadata": {},
   "source": [
    "+ ${\\text{M}}_{{C}}={\\text{F}}\\,{\\text{cos}}\\,\\theta_{\\text{2}}\\cdot\\frac{{\\text{L}}_{\\text{2}}}{2}-{\\text{F}}\\,{\\text{sen}}\\,(\\theta_{\\text{2}}-\\theta_{\\text{1}})\\cdot\\frac{{\\text{L}}_{\\text{2}}}{2}$"
   ]
  },
  {
   "cell_type": "markdown",
   "metadata": {},
   "source": [
    "Luego, se calcula el momento de inercia de la barra, ${\\text{I}}_{\\text{C}}$:"
   ]
  },
  {
   "cell_type": "markdown",
   "metadata": {},
   "source": [
    "+ ${\\text{I}}_{\\text{C}} = \\int_{-\\frac{{\\text{L}}_{\\text{2}}}{2}}^{{\\frac{{\\text{L}}_{\\text{2}}}{2}}}\\,x^{2}\\,{\\text{dm}}=\\int_{-\\frac{{\\text{L}}_{\\text{2}}}{2}}^{{\\frac{{\\text{L}}_{\\text{2}}}{2}}}\\,x^{2}\\,\\big(\\frac{{\\text{m}}}{{\\text{L}}_{\\text{2}}}\\big){\\text{dx}}=\\frac{{\\text{m}}\\,{\\text{L}}_{\\text{2}}^{2}}{\\text{12}}$"
   ]
  },
  {
   "cell_type": "markdown",
   "metadata": {},
   "source": [
    "Igualando todos los resultados, se obtienen las tres ecuaciones de movimientos:"
   ]
  },
  {
   "cell_type": "markdown",
   "metadata": {},
   "source": [
    "\\begin{align}\n",
    "{\\text{F}}\\,{\\text{sen}}\\,\\theta_{\\text{2}}+{\\text{mg}}\\,{\\text{cos}}\\,\\theta_{\\text{2}}-{\\text{T}}\\,{\\text{cos}}\\,(\\theta_{\\text{2}}-\\theta_{\\text{2}})&={\\text{m}}\\,\\bigg( {\\text{L}}_{\\text{1}}\\,{{\\bf{\\ddot{\\theta}}}_{\\text{1}}}\\,{\\text{sen}}\\,(\\theta_{\\text{2}}-\\theta_{\\text{1}})-{\\text{L}}_{\\text{1}}\\,{{\\bf{\\dot{\\theta}}}_{\\text{1}}}^{2}\\,{\\text{cos}}\\,(\\theta_{\\text{2}}-\\theta_{\\text{1}})-\\frac{{\\text{L}}_{\\text{2}}}{\\text{2}}\\,{{\\bf{\\dot{\\theta}}}_{\\text{2}}}^{2} \\bigg)\n",
    "\\label{eq1}\\tag{1}\n",
    "\\end{align}"
   ]
  },
  {
   "cell_type": "markdown",
   "metadata": {},
   "source": [
    "\\begin{align}\n",
    "{\\text{F}}\\,{\\text{cos}}\\,\\theta_{\\text{2}}-{\\text{mg}}\\,{\\text{cos}}\\,\\theta_{\\text{2}}+{\\text{T}}\\,{\\text{sen}}\\,(\\theta_{\\text{2}}-\\theta_{\\text{2}})&={\\text{m}}\\,\\bigg( {\\text{L}}_{\\text{1}}\\,{{\\bf{\\ddot{\\theta}}}_{\\text{1}}}\\,{\\text{cos}}\\,(\\theta_{\\text{2}}-\\theta_{\\text{1}})+{\\text{L}}_{\\text{1}}\\,{{\\bf{\\dot{\\theta}}}_{\\text{1}}}^{2}\\,{\\text{sen}}\\,(\\theta_{\\text{2}}-\\theta_{\\text{1}})+\\frac{{\\text{L}}_{\\text{2}}}{\\text{2}}\\,{{\\bf{\\ddot{\\theta}}}_{\\text{2}}} \\bigg)\n",
    "\\label{eq2}\\tag{2}\n",
    "\\end{align}"
   ]
  },
  {
   "cell_type": "markdown",
   "metadata": {},
   "source": [
    "\\begin{align}\n",
    "{\\text{F}}\\,{\\text{cos}}\\,\\theta_{\\text{2}}\\cdot\\frac{{\\text{L}}_{\\text{2}}}{2}-{\\text{T}}\\,{\\text{sen}}\\,(\\theta_{\\text{2}}-\\theta_{\\text{1}})\\cdot\\frac{{\\text{L}}_{\\text{2}}}{2}&=\\frac{{\\text{m}}\\,{\\text{L}}_{\\text{2}}^{2}}{\\text{12}}\\,{{\\bf{\\ddot{\\theta}}}_{\\text{2}}}\n",
    "\\label{eq3}\\tag{3}\n",
    "\\end{align}"
   ]
  },
  {
   "cell_type": "code",
   "execution_count": null,
   "metadata": {},
   "outputs": [],
   "source": []
  }
 ],
 "metadata": {
  "kernelspec": {
   "display_name": "Python 3",
   "language": "python",
   "name": "python3"
  },
  "language_info": {
   "codemirror_mode": {
    "name": "ipython",
    "version": 3
   },
   "file_extension": ".py",
   "mimetype": "text/x-python",
   "name": "python",
   "nbconvert_exporter": "python",
   "pygments_lexer": "ipython3",
   "version": "3.6.9"
  }
 },
 "nbformat": 4,
 "nbformat_minor": 2
}
