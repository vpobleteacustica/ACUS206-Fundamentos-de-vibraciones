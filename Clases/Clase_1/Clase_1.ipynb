{
 "cells": [
  {
   "cell_type": "markdown",
   "metadata": {},
   "source": [
    "<h1 style=\"text-align:center\">Introducción</h1>\n",
    "<h3 style=\"text-align:center\">ACUS206: Fundamentos de Vibraciones</h3>\n",
    "<p style=\"text-align:center\">Dr. Víctor Poblete <br>\n",
    "<a href=\"mailto:vpoblete@uach.cl\">vpoblete@uach.cl</a><br>\n",
    "<a href=\"http://www.acusticauach.cl\">www.acusticauach.cl</a><br>  "
   ]
  },
  {
   "cell_type": "markdown",
   "metadata": {},
   "source": [
    "### Introducción a vibraciones.\n",
    "\n",
    "Un sistema que realiza movimientos oscilatorios, también llamado, sistema vibratorio, lo podemos definir como un conjunto de componentes que actúan como un todo."
   ]
  },
  {
   "cell_type": "markdown",
   "metadata": {},
   "source": [
    "Como motivación al análisis, en la Figura 1 se puede observar una representación idealizada del sistema auditivo humano. Específicamente, se muestra a la membrana basilar ubicada en la cóclea, como un sistema de $N$ grados de libertad, compuesto de $N$ elementos discretos de masas y resortes. Se observa que la rigidez de estos resortes varía de acuerdo a la distancia de la membrana basilar, que es medida desde la base o entrada a la cóclea (extremo izquierdo), hasta el apex (extremo derecho). <a href=\"https://iopscience.iop.org/article/10.1088/0964-1726/21/6/064001\"> Paper\n",
    "The cochlea as a smart structure. Stephen J Elliott and Christopher A Shera Published 30 May 2012. IOP Publishing Ltd. Smart Materials and Structures, Volume 21, Number 6</a>."
   ]
  },
  {
   "cell_type": "markdown",
   "metadata": {},
   "source": [
    "<!--- Inline HTML works too --->\n",
    "<p style=\"text-align:center\">\n",
    "    <a title=\"sistema auditivo\"><img src=\"Elliot_Sistema.png\" width=\"900\" height=\"900\" alt=\"Tiny\"></a>\n",
    "    <strong>Figure 1. Una representación idealizada del sistema auditivo periférico humano.</strong>\n"
   ]
  },
  {
   "cell_type": "code",
   "execution_count": 1,
   "metadata": {},
   "outputs": [
    {
     "data": {
      "image/jpeg": "[encoded data removed]",
      "text/html": [
       "\n",
       "        <iframe\n",
       "            width=\"400\"\n",
       "            height=\"300\"\n",
       "            src=\"https://www.youtube.com/embed/s2Kk8d7H8R4\"\n",
       "            frameborder=\"0\"\n",
       "            allowfullscreen\n",
       "        ></iframe>\n",
       "        "
      ],
      "text/plain": [
       "<IPython.lib.display.YouTubeVideo at 0x7f6f0c0db160>"
      ]
     },
     "execution_count": 1,
     "metadata": {},
     "output_type": "execute_result"
    }
   ],
   "source": [
    "from IPython.display import YouTubeVideo\n",
    "YouTubeVideo('s2Kk8d7H8R4')"
   ]
  },
  {
   "cell_type": "markdown",
   "metadata": {},
   "source": [
    "En el video se puede observar la onda viajera y su deformación máxima a lo largo de la membrana basilar, la que es responsable además, de la codificación neuronal (principalmente,  debido al órgano de Corti) y de nuestra percepción del pitch."
   ]
  },
  {
   "cell_type": "markdown",
   "metadata": {},
   "source": [
    "En general, en análisis de vibraciones, una pregunta clave es saber cómo responden los sistemas vibratorios a diversos tipos de excitación? El análisis puede realizarse en el dominio del tiempo, o en el dominio de la frecuencia. Para eso, es importante comprender el comportamiento de las funciones de transferencia. Tales funciones se usan no sólo en análisis de vibraciones, sino que también en análisis modal. El propósito del análisis modal es identificar las frecuencias naturales del sistema, el amortiguamiento, y las formas de modales de un sistema vibratorio."
   ]
  },
  {
   "cell_type": "markdown",
   "metadata": {},
   "source": [
    "La manera en que responderá un sistema vibratorio, como se ve en la Figura 2, a una excitación $F(\\omega)$ dependerá de la naturaleza de la excitación y de las propiedades del sistema representadas por su función de transferencia $H(\\omega)$, donde $\\omega$ es la frecuencia angular. "
   ]
  },
  {
   "cell_type": "markdown",
   "metadata": {},
   "source": [
    "<!--- Inline HTML works too --->\n",
    "<p style=\"text-align:center\">\n",
    "    <a title=\"Sistema vibratorio\"><img src=\"FRF_IRVINE.jpg\" width=\"500\" height=\"500\" alt=\"Tiny\"></a>\n",
    "    <strong>Figure 2. Sistema vibratorio representado por $H(\\omega)$, función de excitación $F(\\omega)$ y la función de respuesta de desplazamiento $X(\\omega)$.</strong>"
   ]
  },
  {
   "cell_type": "markdown",
   "metadata": {},
   "source": [
    "#### Ecuaciones de movimiento y leyes de Newton\n",
    "El comportamiento del sistema vibratorio está gobernado por ecuaciones diferenciales de movimiento. Para encontrar la respuesta del sistema se deben resolver estas ecuaciones. Se suele comenzar revisando la mecánica de Newton.\n",
    "\n",
    "Aunque incialmente las leyes de Newton se formularon para partículas solas, éstas se pueden extender a sistemas de N partículas e incluso extender a un cuerpo rígido.\n",
    "\n",
    "#### $1^{era}$ ley de Newton: \n",
    "La expresión matemática de la primera ley:\n",
    "\\begin{align}\n",
    "\\overrightarrow{\\bf{F}}&=\\overrightarrow{0}\n",
    "\\label{eq1}\\tag{1}\n",
    "\\end{align}\n",
    "\n",
    "Si sobre una partícula sola, no hay fuerzas que actúen, entonces: $\\overrightarrow{\\bf{F}}=\\overrightarrow{0}.$ Eso significa, que la partícula se moverá con velocidad constante $\\overrightarrow{\\bf{v}}={\\text{cte}}$, y en línea recta. $\\overrightarrow{\\bf{F}}(t)$ y $\\overrightarrow{\\bf{v}}(t)$ representan el vector de fuerza y el vector de velocidad, relativos a un conjunto de ejes inerciales-$xyz$ (ver Figura 2). En la Fig. 2, $\\overrightarrow{\\bf{r}}$ representa el vector de posición de la partícula de masa $m$ relativa al espacio inercial -$xyz$."
   ]
  },
  {
   "cell_type": "markdown",
   "metadata": {},
   "source": [
    "### <!--- Inline HTML works too --->\n",
    "<p style=\"text-align:center\">\n",
    "    <a title=\"ejes inerciales-$xyz$\"><img src=\"SistemaInercia4.png\" width=\"350\" height=\"350\" alt=\"Tiny\"></a>\n",
    "    <strong>Figure 2. Una partícula de masa $m$ y los vectores $\\overrightarrow{\\bf{F}}$ y $\\overrightarrow{\\bf{p}}$ relativos a un conjunto de ejes inerciales-$xyz$.</strong>"
   ]
  },
  {
   "cell_type": "markdown",
   "metadata": {},
   "source": [
    "#### $2^{a}$ ley de Newton:\n",
    "La expresión matemática de la segunda ley:\n",
    "\\begin{align}\n",
    "\\overrightarrow{\\bf{F}}&=\\frac{d{\\bf{\\overrightarrow{p}}}}{dt}\n",
    "\\label{eq2}\\tag{2}\n",
    "\\end{align}\n",
    "\n",
    "Una partícula sola, de masa $m$, accionada por una fuerza $\\overrightarrow{\\bf{F}}$ se mueve de modo que el vector fuerza es igual a la tasa de cambio del vector momentum lineal $\\overrightarrow{\\bf{p}}$, donde\n",
    "\\begin{align}\n",
    "\\overrightarrow{\\bf{p}}&=m{\\bf{\\overrightarrow{v}}}=m\\dot{\\overrightarrow{\\bf{r}}}\n",
    "\\label{eq3}\\tag{3}\n",
    "\\end{align}\n",
    "\n",
    "donde la masa $m$ es una cantidad positiva que no depende del tiempo. En la Ecuación anterior, $\\dot{\\overrightarrow{\\bf{r}}}$ representa la derivada con respecto al tiempo del vector de posición. Insertando la Ec. ([3](#mjx-eqn-eq3)), en Ec. ([2](#mjx-eqn-eq2)), se obtiene la $2^{a}$ ley de Newton en su forma más reconocida:\n",
    "\\begin{align}\n",
    "\\overrightarrow{\\bf{F}}&=m\\dot{\\bf{\\overrightarrow{v}}}=m\\ddot{\\overrightarrow{\\bf{r}}}= m{\\overrightarrow{\\bf{a}}}\n",
    "\\label{eq4}\\tag{4}\n",
    "\\end{align}\n",
    "\n",
    "donde ${\\overrightarrow{\\bf{a}}}$ es el vector de aceleración de la partícula de masa $m$ relativa al conjunto de ejes inerciales-$xyz$. La Ec. ([4](#mjx-eqn-eq4)), $\\overrightarrow{\\bf{F}}=m{\\overrightarrow{\\bf{a}}}$, es la ecuación de movimiento de movimiento de la partícula de masa $m$. $\\overrightarrow{\\bf{F}}$ representa la resultante de todas las fuerza que están accionando la partícula.\n",
    "\n",
    "Unidades. Sistema internacional: $[m]=[\\text{kg}]$; $[\\overrightarrow{\\bf{F}}]=[\\text{N}]$; donde $1[\\text{N}]= 1 \\text{kg}\\cdot\\text{m}/s^{2}.$  \n"
   ]
  },
  {
   "cell_type": "markdown",
   "metadata": {},
   "source": [
    "#### $3^{a}$ ley de Newton:\n",
    "La expresión matemática de la tercera ley:\n",
    "\n",
    "\\begin{align}\n",
    "\\overrightarrow{\\bf{f_{ij}}}&=-\\overrightarrow{\\bf{f_{ji}}},\\quad {\\text{i}} \\neq {\\text{j}}\n",
    "\\label{eq5}\\tag{5}\n",
    "\\end{align}\n",
    "\n",
    "Cuando dos partículas ejercen fuerzas entre sí, las fuerzas yacen a lo largo de la línea que las une y los vectores de fuerzas correspondientes son uno el negativo del otro. Son vectores colineales."
   ]
  },
  {
   "cell_type": "markdown",
   "metadata": {},
   "source": [
    "#### Diagrama de cuerpo libre:\n",
    "\n",
    "Al utilizar la 2$^{\\underline{a}}$ ley de Newton para derivar las ecuaciones de movimiento de una partícula de masa $m$, se suele hacer un diagrama de cuerpo libre (DCL) de cada una de las fuerzas que accionan la partícula.\n",
    "\n",
    "#### Ejemplo de aplicación de la 2$^{\\underline{a}}$ ley de Newton\n",
    "\n",
    "Un péndulo simple, no amortiguado, consiste de la partícula de masa $m$, suspendida de una cuerda de longitud $L$. Obtener la ecuación diferencial de movimiento para el desplazamiento angular $\\theta (t)$ del péndulo. También, derivar una expresión para la tensión $T$ de la cuerda.\n",
    "\n",
    "<p style=\"text-align:center\">\n",
    "    <a title=\"pendulo simple-$xyz$\"><img src=\"pendulosimple.png\" width=\"350\" height=\"350\" alt=\"Tiny\"></a>\n",
    "    <strong>Figure 3. Péndulo simple.</strong>\n",
    "\n",
    "#### Desarrollo\n",
    "La solución del problema se puede obtener usando la 2$^{\\underline{a}}$ ley de Newton. Previamente, se deben conocer las componentes: radial y transversal, de la aceleración.\n",
    "<p style=\"text-align:center\">\n",
    "    <a title=\"diagrama de cuerpo libre\"><img src=\"diagramacuerpolibre.png\" width=\"250\" height=\"250\" alt=\"Tiny\"></a>\n",
    "    <strong>Figure 4. Diagrama de cuerpo libre de la partícula.</strong>\n",
    "\n",
    "En la Fig. 4, $\\hat{r}$ y $\\hat{\\theta}$ representan dos vectores unitarios, perpendiculares, que indican dirección en sentido radial y dirección en sentido transversal, respectivamente.\n",
    "\n",
    "En el DCL, la primera fuerza aplicada considerada es representada por $T$. Aunque la tensión $T$ es una fuerza interna, ésta está jugando el rol de una fuerza externa que acciona la partícula de masa $m$. Mientras que la segunda fuerza considerada es el peso dado por: $mg.$\n",
    "\n",
    "Del diagrama de cuerpo libre, se escriben las ecuaciones de movimiento, en términos de las componentes radial y transversal de la aceleración:\n",
    "\n",
    "\\begin{align*}\n",
    "\\sum_{}^{} F_{r} &= mg\\, \\text{cos}(\\theta)-T= m\\,a_{r}\\\\\n",
    "\\sum_{}^{} F_{\\theta} &= -mg\\, \\text{sen}(\\theta)\\,\\,\\,\\,\\,\\,= m\\,a_{\\theta}\n",
    "\\end{align*}\n",
    "\n",
    "Del problema, se reconoce que el vector de posición tiene magnitud: $r = L = c^{\\underline{te}}$.\n"
   ]
  },
  {
   "cell_type": "markdown",
   "metadata": {},
   "source": [
    "Deducción de las componentes de la aceleración:\n",
    "\n",
    "1) Suponer que tenemos un movimiento circular como el de la Figura 5. El vector de posición de la partícula de la masa $m$, es representado por $\\overrightarrow{\\bf{r}}$."
   ]
  },
  {
   "cell_type": "markdown",
   "metadata": {},
   "source": [
    "<p style=\"text-align:center\">\n",
    "    <a title=\"Componentes aceleración\"><img src=\"Componentesa.png\" width=\"350\" height=\"350\" alt=\"Tiny\"></a>\n",
    "    <strong>Figure 5. Diagrama de movimiento circular.</strong> "
   ]
  },
  {
   "cell_type": "markdown",
   "metadata": {},
   "source": [
    "Si se observa que $r = L = {\\text{constante}}$, entonces\n",
    "\\begin{align}\n",
    "\\dot{r}&=\\ddot{r}=0\n",
    "\\label{eq6}\\tag{6}\n",
    "\\end{align}"
   ]
  },
  {
   "cell_type": "markdown",
   "metadata": {},
   "source": [
    "De la Figura 5, el vector de posición de la partícula se puede expresar como:\n",
    "\n",
    "\\begin{align*}\n",
    "\\overrightarrow{\\bf{r}}&= x\\hat{i}\\,+\\,y\\hat{j}\\\\\n",
    "&=r\\,\\text{cos}(\\theta)+r\\,\\text{sen}(\\theta)\n",
    "\\label{eq7}\\tag{7}\n",
    "\\end{align*}"
   ]
  },
  {
   "cell_type": "markdown",
   "metadata": {},
   "source": [
    "Mientras que el vector de velocidad de la partícula ${\\bf{\\overrightarrow{v}}}$ se obtiene al derivar ${\\bf{\\overrightarrow{r}}}$ respecto del tiempo en la Ec. ([7](#mjx-eqn-eq7)):"
   ]
  },
  {
   "cell_type": "markdown",
   "metadata": {},
   "source": [
    "\\begin{align*}\n",
    "\\bf{\\overrightarrow{v}}&=\\,\\dot{\\overrightarrow{\\bf{r}}}=-r\\,\\dot{\\theta}\\,\\text{sen}(\\theta)\\,\\hat{i}\\,+\\,r\\,\\dot{\\theta}\\,\\text{cos}(\\theta)\\,\\hat{j}\\\\\n",
    "&=\\,r\\,\\dot{\\theta}\\,(\\,-\\text{sen}(\\theta)\\,\\hat{i}\\,+\\,\\text{cos}(\\theta)\\,\\hat{j}\\,)\\\\\n",
    "\\bf{\\overrightarrow{v}}&=\\,r\\,\\dot{\\theta}\\,\\hat{\\theta}\n",
    "%\\label{eq8}\\tag{8}\n",
    "\\end{align*}"
   ]
  },
  {
   "cell_type": "markdown",
   "metadata": {},
   "source": [
    "Si se llama $\\bf{\\overrightarrow{a}}$ al vector de aceleración, entonces:"
   ]
  },
  {
   "cell_type": "markdown",
   "metadata": {},
   "source": [
    "\\begin{align*}\n",
    "\\bf{\\overrightarrow{a}}&=\\,\\dot{\\overrightarrow{\\bf{v}}}=\\,r\\,\\ddot{\\theta}\\,\\,(\\,-\\text{sen}(\\theta)\\,\\hat{i}\\,+\\,\\text{cos}(\\theta)\\,\\hat{j}\\,)\\,+\\,r\\,\\dot{\\theta}\\,\\,(-\\dot{\\theta}\\,\\text{cos}(\\theta)\\,\\hat{i}\\,-\\,\\dot{\\theta}\\,\\text{sen}(\\theta)\\,\\hat{j}\\,)\\\\\n",
    "&=\\,r\\,\\ddot{\\theta}\\,(\\,-\\text{sen}(\\theta)\\,\\hat{i}\\,+\\,\\text{cos}(\\theta)\\,\\hat{j}\\,)\\,-\\,r\\,\\dot{\\theta}\\,^{2}\\,(\\,\\text{cos}(\\theta)\\,\\hat{i}\\,+\\,\\text{sen}(\\theta)\\,\\hat{j}\\,)\\\\\n",
    "&=\\,-\\,r\\,\\dot{\\theta}\\,^{2}\\,(\\,\\text{cos}(\\theta)\\,\\hat{i}\\,+\\,\\text{sen}(\\theta)\\,\\hat{j}\\,)\\,+\\,r\\,\\ddot{\\theta}\\,(\\,-\\text{sen}(\\theta)\\,\\hat{i}\\,+\\,\\text{cos}(\\theta)\\,\\hat{j}\\,)\\\\\n",
    "&= \\,-\\,r\\,\\dot{\\theta}\\,^{2}\\,\\hat{r}\\,+\\,r\\,\\ddot{\\theta}\\,\\hat{\\theta}\n",
    "%\\label{eq8}\\tag{8}\n",
    "\\end{align*}"
   ]
  },
  {
   "cell_type": "markdown",
   "metadata": {},
   "source": [
    "Se observa que en un movimiento circular, la aceleración tiene dos componentes: una componente radial y otra componente transversal. Ahora, volviendo al problema del péndulo simple, si $r=L$, donde $L$ es el largo de la cuerda, el vector de aceleración será: "
   ]
  },
  {
   "cell_type": "markdown",
   "metadata": {},
   "source": [
    "\\begin{align*}\n",
    "\\bf{\\overrightarrow{a}}&=\\,-\\,L\\,\\dot{\\theta}\\,^{2}\\,\\hat{r}\\,+\\,L\\,\\ddot{\\theta}\\,\\hat{\\theta}\n",
    "\\end{align*}"
   ]
  },
  {
   "cell_type": "markdown",
   "metadata": {},
   "source": [
    "Esto es, se tiene en este caso dos componentes: una radial"
   ]
  },
  {
   "cell_type": "markdown",
   "metadata": {},
   "source": [
    "\\begin{align*}\n",
    "a_{r}&=\\,-\\,L\\,\\dot{\\theta}\\,^{2}\n",
    "\\end{align*}"
   ]
  },
  {
   "cell_type": "markdown",
   "metadata": {},
   "source": [
    "y otra transversal:"
   ]
  },
  {
   "cell_type": "markdown",
   "metadata": {},
   "source": [
    "\\begin{align*}\n",
    "a_{\\theta}&=\\,L\\,\\ddot{\\theta}\n",
    "\\end{align*}"
   ]
  },
  {
   "cell_type": "markdown",
   "metadata": {},
   "source": [
    "Por lo tanto, se tiene:"
   ]
  },
  {
   "cell_type": "markdown",
   "metadata": {},
   "source": [
    "\\begin{align*}\n",
    "\\sum_{}^{} F_{r} &\\quad \\quad \\quad \\quad =mg\\, \\text{cos}(\\theta)-T \\, = m\\,a_{r}\\,=\\,-m\\,L\\,\\dot{\\theta}\\,^{2}\n",
    "\\label{eq8}\\tag{8}\n",
    "\\end{align*}"
   ]
  },
  {
   "cell_type": "markdown",
   "metadata": {},
   "source": [
    "\\begin{align*}\n",
    "\\sum_{}^{} F_{\\theta} & = -mg\\, \\text{sen}(\\theta)\\,\\quad= m\\,L\\,\\ddot{\\theta}\n",
    "\\label{eq9}\\tag{9}\n",
    "\\end{align*}"
   ]
  },
  {
   "cell_type": "markdown",
   "metadata": {},
   "source": [
    "De la Ec. ([9](#mjx-eqn-eq9)), se obtiene la ecuación diferencial de movimiento:"
   ]
  },
  {
   "cell_type": "markdown",
   "metadata": {},
   "source": [
    "\\begin{align}\n",
    "\\ddot{\\theta}\\,+\\,\\frac{g}{L}\\,\\text{sen}(\\theta)\\,=\\,0\n",
    "\\label{eq10}\\tag{10}\n",
    "\\end{align}"
   ]
  },
  {
   "cell_type": "markdown",
   "metadata": {},
   "source": [
    "Se puede observar que el movimiento del péndulo no depende la masa $m$ y que es una ecuación diferencial no-lineal, homogénea, invariante en el tiempo."
   ]
  },
  {
   "cell_type": "markdown",
   "metadata": {},
   "source": [
    "### Fórmulas básicas\n"
   ]
  },
  {
   "cell_type": "markdown",
   "metadata": {},
   "source": [
    "Sea $x = x(t)$, tal que: \n",
    "\\begin{align*}\n",
    "\\ddot{x} + \\alpha \\dot{x}+\\beta\\, t\\, x&=0,\\quad \\text{Lineal, variante en el tiempo, homogénea}\\\\\n",
    "\\ddot{x} + \\alpha \\dot{x}+\\beta\\, x&=0,\\quad \\text{Lineal, invariante en el tiempo, coeficientes constantes, homogénea}\\\\\n",
    "\\dot{x}+\\alpha\\, x^{3}&=0,\\quad \\text{No lineal, invariante en el tiempo, homogénea}\\\\\n",
    "\\end{align*}"
   ]
  },
  {
   "cell_type": "markdown",
   "metadata": {},
   "source": [
    "Siempre se trabajará en el curso con sistemas que presenten ecuaciones lineales. Si no lo son, se transformarán a ecuaciones lineales."
   ]
  },
  {
   "cell_type": "code",
   "execution_count": 19,
   "metadata": {},
   "outputs": [
    {
     "data": {
      "image/png": "[encoded data removed]",
      "text/plain": [
       "<Figure size 432x288 with 1 Axes>"
      ]
     },
     "metadata": {
      "needs_background": "light"
     },
     "output_type": "display_data"
    }
   ],
   "source": [
    "import math\n",
    "import numpy as np\n",
    "from scipy.integrate import solve_ivp\n",
    "import matplotlib.pyplot as plt\n",
    "import os\n",
    "\n",
    "st = 0\n",
    "et = 20.4\n",
    "ts = 0.1\n",
    "g = 9.81\n",
    "L = 1\n",
    "b = 0\n",
    "m = 1\n",
    "\n",
    "def sim_pen_eq(t,theta):\n",
    "    dtheta2_dt = (-b/m)*theta[1] + (-g/L)*np.sin(theta[0])\n",
    "    dtheta1_dt =theta[1]\n",
    "    return [dtheta1_dt, dtheta2_dt]\n",
    "\n",
    "theta1_ini = 0\n",
    "theta2_ini = 3\n",
    "theta_ini  = [theta1_ini, theta2_ini]\n",
    "t_span     = [st, et+ts]\n",
    "t          = np.arange(st, et+ts,ts)\n",
    "sim_points = len(t)\n",
    "l          = np.arange(0,sim_points,1)\n",
    "\n",
    "theta12 = solve_ivp(sim_pen_eq, t_span, theta_ini, t_eval = t)\n",
    "theta1 = theta12.y[0,:]\n",
    "theta2 = theta12.y[1,:]\n",
    "plt.plot(t,theta1,label='desplazamiento angular (rad)')\n",
    "plt.plot(t,theta2,label='velocidad angular (rad/s)')\n",
    "plt.xlabel('tiempo (s)')\n",
    "plt.ylabel('Desp. angular (rad) y vel. angular (rad/s)')\n",
    "plt.legend()\n",
    "plt.show()\n"
   ]
  },
  {
   "cell_type": "code",
   "execution_count": 17,
   "metadata": {
    "scrolled": false
   },
   "outputs": [
    {
     "data": {
      "text/plain": [
       "0"
      ]
     },
     "execution_count": 17,
     "metadata": {},
     "output_type": "execute_result"
    }
   ],
   "source": [
    "#Simulación\n",
    "\n",
    "x = L*np.sin(theta1)\n",
    "y = -L*np.cos(theta1)\n",
    "\n",
    "for point in l:\n",
    "    plt.figure()\n",
    "    plt.plot(x[point], y[point],'bo', markersize=20)\n",
    "    plt.plot([0,x[point]],[0,y[point]])\n",
    "    plt.xlim(-L-0.5,L+0.5)\n",
    "    plt.ylim(-L-0.5,L+0.5)\n",
    "    plt.xlabel('dirección x')\n",
    "    plt.ylabel('dirección y')\n",
    "    filenumber = point\n",
    "    filenumber=format(filenumber,\"05\")\n",
    "    filename   = \"image{}.png\".format(filenumber)\n",
    "    plt.savefig(filename)\n",
    "    plt.close()\n",
    "\n",
    "os.system(\"ffmpeg -f image2 -r 20 -i image%05d.png -vcodec mpeg4 -y moviesin.avi\")"
   ]
  },
  {
   "cell_type": "code",
   "execution_count": 13,
   "metadata": {},
   "outputs": [
    {
     "data": {
      "text/plain": [
       "True"
      ]
     },
     "execution_count": 13,
     "metadata": {},
     "output_type": "execute_result"
    }
   ],
   "source": [
    "def convert_avi_to_mp4(avi_file_path, output_name):\n",
    "    os.popen(\"ffmpeg -i '{input}' -ac 2 -b:v 2000k -c:a aac -c:v libx264 -b:a 160k -vprofile high -bf 0 -strict experimental -f mp4 '{output}.mp4'\".format(input = avi_file_path, output = output_name))\n",
    "    return True\n",
    "\n",
    "convert_avi_to_mp4(\"/home/kasparov/Escritorio/20190501_Vibrations_Signals_Processing_MATLAB/RESPALDO_AÑOS/20190821_ACUS262_PRIMAVERA2019/2019/Clases/Clase_1/movieamort.avi\", \"movieamortiguado\")"
   ]
  },
  {
   "cell_type": "code",
   "execution_count": 18,
   "metadata": {
    "scrolled": true
   },
   "outputs": [
    {
     "data": {
      "text/html": [
       "<video src=\"moviesin.mp4\" controls  >\n",
       "      Your browser does not support the <code>video</code> element.\n",
       "    </video>"
      ],
      "text/plain": [
       "<IPython.core.display.Video object>"
      ]
     },
     "execution_count": 18,
     "metadata": {},
     "output_type": "execute_result"
    }
   ],
   "source": [
    "from IPython.display import Video\n",
    "Video(\"moviesin.mp4\")"
   ]
  },
  {
   "cell_type": "code",
   "execution_count": null,
   "metadata": {},
   "outputs": [],
   "source": []
  }
 ],
 "metadata": {
  "anaconda-cloud": {},
  "kernelspec": {
   "display_name": "Python 3",
   "language": "python",
   "name": "python3"
  },
  "language_info": {
   "codemirror_mode": {
    "name": "ipython",
    "version": 3
   },
   "file_extension": ".py",
   "mimetype": "text/x-python",
   "name": "python",
   "nbconvert_exporter": "python",
   "pygments_lexer": "ipython3",
   "version": "3.6.9"
  }
 },
 "nbformat": 4,
 "nbformat_minor": 1
}
